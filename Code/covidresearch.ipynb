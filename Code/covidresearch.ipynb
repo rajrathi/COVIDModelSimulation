{
 "cells": [
  {
   "cell_type": "code",
   "execution_count": 1,
   "source": [
    "#ignoring warnings\r\n",
    "import warnings\r\n",
    "warnings.filterwarnings('ignore')"
   ],
   "outputs": [],
   "metadata": {}
  },
  {
   "cell_type": "code",
   "execution_count": 2,
   "source": [
    "#importing required libraries\r\n",
    "import pandas as pd\r\n",
    "import numpy as np\r\n",
    "import seaborn as sns\r\n",
    "import matplotlib.pyplot as plt\r\n",
    "import plotly.express as px\r\n",
    "%matplotlib inline"
   ],
   "outputs": [],
   "metadata": {}
  },
  {
   "cell_type": "code",
   "execution_count": 3,
   "source": [
    "# setting display option for pandas for columns\r\n",
    "pd.set_option(\"display.max_columns\",None)\r\n",
    "pd.set_option(\"display.max_rows\",None)"
   ],
   "outputs": [],
   "metadata": {}
  },
  {
   "cell_type": "code",
   "execution_count": 5,
   "source": [
    "india_daily = pd.read_csv(\"case_time_series (1).csv\")"
   ],
   "outputs": [],
   "metadata": {}
  },
  {
   "cell_type": "code",
   "execution_count": 6,
   "source": [
    "india_daily.head()"
   ],
   "outputs": [
    {
     "output_type": "execute_result",
     "data": {
      "text/html": [
       "<div>\n",
       "<style scoped>\n",
       "    .dataframe tbody tr th:only-of-type {\n",
       "        vertical-align: middle;\n",
       "    }\n",
       "\n",
       "    .dataframe tbody tr th {\n",
       "        vertical-align: top;\n",
       "    }\n",
       "\n",
       "    .dataframe thead th {\n",
       "        text-align: right;\n",
       "    }\n",
       "</style>\n",
       "<table border=\"1\" class=\"dataframe\">\n",
       "  <thead>\n",
       "    <tr style=\"text-align: right;\">\n",
       "      <th></th>\n",
       "      <th>Date</th>\n",
       "      <th>Date_YMD</th>\n",
       "      <th>Daily Confirmed</th>\n",
       "      <th>Total Confirmed</th>\n",
       "      <th>Daily Recovered</th>\n",
       "      <th>Total Recovered</th>\n",
       "      <th>Daily Deceased</th>\n",
       "      <th>Total Deceased</th>\n",
       "    </tr>\n",
       "  </thead>\n",
       "  <tbody>\n",
       "    <tr>\n",
       "      <th>0</th>\n",
       "      <td>30 January 2020</td>\n",
       "      <td>2020-01-30</td>\n",
       "      <td>1</td>\n",
       "      <td>1</td>\n",
       "      <td>0</td>\n",
       "      <td>0</td>\n",
       "      <td>0</td>\n",
       "      <td>0</td>\n",
       "    </tr>\n",
       "    <tr>\n",
       "      <th>1</th>\n",
       "      <td>31 January 2020</td>\n",
       "      <td>2020-01-31</td>\n",
       "      <td>0</td>\n",
       "      <td>1</td>\n",
       "      <td>0</td>\n",
       "      <td>0</td>\n",
       "      <td>0</td>\n",
       "      <td>0</td>\n",
       "    </tr>\n",
       "    <tr>\n",
       "      <th>2</th>\n",
       "      <td>1 February 2020</td>\n",
       "      <td>2020-02-01</td>\n",
       "      <td>0</td>\n",
       "      <td>1</td>\n",
       "      <td>0</td>\n",
       "      <td>0</td>\n",
       "      <td>0</td>\n",
       "      <td>0</td>\n",
       "    </tr>\n",
       "    <tr>\n",
       "      <th>3</th>\n",
       "      <td>2 February 2020</td>\n",
       "      <td>2020-02-02</td>\n",
       "      <td>1</td>\n",
       "      <td>2</td>\n",
       "      <td>0</td>\n",
       "      <td>0</td>\n",
       "      <td>0</td>\n",
       "      <td>0</td>\n",
       "    </tr>\n",
       "    <tr>\n",
       "      <th>4</th>\n",
       "      <td>3 February 2020</td>\n",
       "      <td>2020-02-03</td>\n",
       "      <td>1</td>\n",
       "      <td>3</td>\n",
       "      <td>0</td>\n",
       "      <td>0</td>\n",
       "      <td>0</td>\n",
       "      <td>0</td>\n",
       "    </tr>\n",
       "  </tbody>\n",
       "</table>\n",
       "</div>"
      ],
      "text/plain": [
       "              Date    Date_YMD  Daily Confirmed  Total Confirmed  \\\n",
       "0  30 January 2020  2020-01-30                1                1   \n",
       "1  31 January 2020  2020-01-31                0                1   \n",
       "2  1 February 2020  2020-02-01                0                1   \n",
       "3  2 February 2020  2020-02-02                1                2   \n",
       "4  3 February 2020  2020-02-03                1                3   \n",
       "\n",
       "   Daily Recovered  Total Recovered  Daily Deceased  Total Deceased  \n",
       "0                0                0               0               0  \n",
       "1                0                0               0               0  \n",
       "2                0                0               0               0  \n",
       "3                0                0               0               0  \n",
       "4                0                0               0               0  "
      ]
     },
     "metadata": {},
     "execution_count": 6
    }
   ],
   "metadata": {}
  },
  {
   "cell_type": "code",
   "execution_count": 7,
   "source": [
    "india_daily.info()"
   ],
   "outputs": [
    {
     "output_type": "stream",
     "name": "stdout",
     "text": [
      "<class 'pandas.core.frame.DataFrame'>\n",
      "RangeIndex: 594 entries, 0 to 593\n",
      "Data columns (total 8 columns):\n",
      " #   Column           Non-Null Count  Dtype \n",
      "---  ------           --------------  ----- \n",
      " 0   Date             594 non-null    object\n",
      " 1   Date_YMD         594 non-null    object\n",
      " 2   Daily Confirmed  594 non-null    int64 \n",
      " 3   Total Confirmed  594 non-null    int64 \n",
      " 4   Daily Recovered  594 non-null    int64 \n",
      " 5   Total Recovered  594 non-null    int64 \n",
      " 6   Daily Deceased   594 non-null    int64 \n",
      " 7   Total Deceased   594 non-null    int64 \n",
      "dtypes: int64(6), object(2)\n",
      "memory usage: 37.2+ KB\n"
     ]
    }
   ],
   "metadata": {}
  },
  {
   "cell_type": "code",
   "execution_count": 8,
   "source": [
    "india_daily.drop(columns='Date', inplace=True)"
   ],
   "outputs": [],
   "metadata": {}
  },
  {
   "cell_type": "code",
   "execution_count": 9,
   "source": [
    "india_daily['Date_YMD'] = pd.to_datetime(india_daily['Date_YMD'], infer_datetime_format=True)\r\n",
    "india_daily.info()"
   ],
   "outputs": [
    {
     "output_type": "stream",
     "name": "stdout",
     "text": [
      "<class 'pandas.core.frame.DataFrame'>\n",
      "RangeIndex: 594 entries, 0 to 593\n",
      "Data columns (total 7 columns):\n",
      " #   Column           Non-Null Count  Dtype         \n",
      "---  ------           --------------  -----         \n",
      " 0   Date_YMD         594 non-null    datetime64[ns]\n",
      " 1   Daily Confirmed  594 non-null    int64         \n",
      " 2   Total Confirmed  594 non-null    int64         \n",
      " 3   Daily Recovered  594 non-null    int64         \n",
      " 4   Total Recovered  594 non-null    int64         \n",
      " 5   Daily Deceased   594 non-null    int64         \n",
      " 6   Total Deceased   594 non-null    int64         \n",
      "dtypes: datetime64[ns](1), int64(6)\n",
      "memory usage: 32.6 KB\n"
     ]
    }
   ],
   "metadata": {}
  },
  {
   "cell_type": "markdown",
   "source": [],
   "metadata": {}
  },
  {
   "cell_type": "code",
   "execution_count": 10,
   "source": [
    "vaccine_data = pd.read_csv(\"vaccine_doses_statewise_v2.csv\")\r\n",
    "vaccine_data.head()"
   ],
   "outputs": [
    {
     "output_type": "execute_result",
     "data": {
      "text/html": [
       "<div>\n",
       "<style scoped>\n",
       "    .dataframe tbody tr th:only-of-type {\n",
       "        vertical-align: middle;\n",
       "    }\n",
       "\n",
       "    .dataframe tbody tr th {\n",
       "        vertical-align: top;\n",
       "    }\n",
       "\n",
       "    .dataframe thead th {\n",
       "        text-align: right;\n",
       "    }\n",
       "</style>\n",
       "<table border=\"1\" class=\"dataframe\">\n",
       "  <thead>\n",
       "    <tr style=\"text-align: right;\">\n",
       "      <th></th>\n",
       "      <th>Vaccinated As of</th>\n",
       "      <th>State</th>\n",
       "      <th>First Dose Administered</th>\n",
       "      <th>Second Dose Administered</th>\n",
       "      <th>Total Doses Administered</th>\n",
       "    </tr>\n",
       "  </thead>\n",
       "  <tbody>\n",
       "    <tr>\n",
       "      <th>0</th>\n",
       "      <td>16/01/2021</td>\n",
       "      <td>Andaman and Nicobar Islands</td>\n",
       "      <td>225</td>\n",
       "      <td>0</td>\n",
       "      <td>225</td>\n",
       "    </tr>\n",
       "    <tr>\n",
       "      <th>1</th>\n",
       "      <td>16/01/2021</td>\n",
       "      <td>Andhra Pradesh</td>\n",
       "      <td>18412</td>\n",
       "      <td>0</td>\n",
       "      <td>18412</td>\n",
       "    </tr>\n",
       "    <tr>\n",
       "      <th>2</th>\n",
       "      <td>16/01/2021</td>\n",
       "      <td>Arunachal Pradesh</td>\n",
       "      <td>829</td>\n",
       "      <td>0</td>\n",
       "      <td>829</td>\n",
       "    </tr>\n",
       "    <tr>\n",
       "      <th>3</th>\n",
       "      <td>16/01/2021</td>\n",
       "      <td>Assam</td>\n",
       "      <td>3528</td>\n",
       "      <td>0</td>\n",
       "      <td>3528</td>\n",
       "    </tr>\n",
       "    <tr>\n",
       "      <th>4</th>\n",
       "      <td>16/01/2021</td>\n",
       "      <td>Bihar</td>\n",
       "      <td>18169</td>\n",
       "      <td>0</td>\n",
       "      <td>18169</td>\n",
       "    </tr>\n",
       "  </tbody>\n",
       "</table>\n",
       "</div>"
      ],
      "text/plain": [
       "  Vaccinated As of                        State  First Dose Administered  \\\n",
       "0       16/01/2021  Andaman and Nicobar Islands                      225   \n",
       "1       16/01/2021               Andhra Pradesh                    18412   \n",
       "2       16/01/2021            Arunachal Pradesh                      829   \n",
       "3       16/01/2021                        Assam                     3528   \n",
       "4       16/01/2021                        Bihar                    18169   \n",
       "\n",
       "   Second Dose Administered  Total Doses Administered  \n",
       "0                         0                       225  \n",
       "1                         0                     18412  \n",
       "2                         0                       829  \n",
       "3                         0                      3528  \n",
       "4                         0                     18169  "
      ]
     },
     "metadata": {},
     "execution_count": 10
    }
   ],
   "metadata": {}
  },
  {
   "cell_type": "code",
   "execution_count": 11,
   "source": [
    "vaccine_data.info()"
   ],
   "outputs": [
    {
     "output_type": "stream",
     "name": "stdout",
     "text": [
      "<class 'pandas.core.frame.DataFrame'>\n",
      "RangeIndex: 9120 entries, 0 to 9119\n",
      "Data columns (total 5 columns):\n",
      " #   Column                    Non-Null Count  Dtype \n",
      "---  ------                    --------------  ----- \n",
      " 0   Vaccinated As of          9120 non-null   object\n",
      " 1   State                     9120 non-null   object\n",
      " 2   First Dose Administered   9120 non-null   int64 \n",
      " 3   Second Dose Administered  9120 non-null   int64 \n",
      " 4   Total Doses Administered  9120 non-null   int64 \n",
      "dtypes: int64(3), object(2)\n",
      "memory usage: 356.4+ KB\n"
     ]
    }
   ],
   "metadata": {}
  },
  {
   "cell_type": "code",
   "execution_count": 14,
   "source": [
    "vaccine_data.rename(columns = {'Vaccinated As of':'Date'}, inplace=True)"
   ],
   "outputs": [],
   "metadata": {}
  },
  {
   "cell_type": "code",
   "execution_count": 15,
   "source": [
    "#Converting date ibject type to datetime\r\n",
    "vaccine_data.Date = pd.to_datetime(vaccine_data.Date, infer_datetime_format=True)\r\n",
    "vaccine_data.info()"
   ],
   "outputs": [
    {
     "output_type": "stream",
     "name": "stdout",
     "text": [
      "<class 'pandas.core.frame.DataFrame'>\n",
      "RangeIndex: 9120 entries, 0 to 9119\n",
      "Data columns (total 5 columns):\n",
      " #   Column                    Non-Null Count  Dtype         \n",
      "---  ------                    --------------  -----         \n",
      " 0   Date                      9120 non-null   datetime64[ns]\n",
      " 1   State                     9120 non-null   object        \n",
      " 2   First Dose Administered   9120 non-null   int64         \n",
      " 3   Second Dose Administered  9120 non-null   int64         \n",
      " 4   Total Doses Administered  9120 non-null   int64         \n",
      "dtypes: datetime64[ns](1), int64(3), object(1)\n",
      "memory usage: 356.4+ KB\n"
     ]
    }
   ],
   "metadata": {}
  },
  {
   "cell_type": "code",
   "execution_count": 16,
   "source": [
    "vaccine_data.head()"
   ],
   "outputs": [
    {
     "output_type": "execute_result",
     "data": {
      "text/html": [
       "<div>\n",
       "<style scoped>\n",
       "    .dataframe tbody tr th:only-of-type {\n",
       "        vertical-align: middle;\n",
       "    }\n",
       "\n",
       "    .dataframe tbody tr th {\n",
       "        vertical-align: top;\n",
       "    }\n",
       "\n",
       "    .dataframe thead th {\n",
       "        text-align: right;\n",
       "    }\n",
       "</style>\n",
       "<table border=\"1\" class=\"dataframe\">\n",
       "  <thead>\n",
       "    <tr style=\"text-align: right;\">\n",
       "      <th></th>\n",
       "      <th>Date</th>\n",
       "      <th>State</th>\n",
       "      <th>First Dose Administered</th>\n",
       "      <th>Second Dose Administered</th>\n",
       "      <th>Total Doses Administered</th>\n",
       "    </tr>\n",
       "  </thead>\n",
       "  <tbody>\n",
       "    <tr>\n",
       "      <th>0</th>\n",
       "      <td>2021-01-16</td>\n",
       "      <td>Andaman and Nicobar Islands</td>\n",
       "      <td>225</td>\n",
       "      <td>0</td>\n",
       "      <td>225</td>\n",
       "    </tr>\n",
       "    <tr>\n",
       "      <th>1</th>\n",
       "      <td>2021-01-16</td>\n",
       "      <td>Andhra Pradesh</td>\n",
       "      <td>18412</td>\n",
       "      <td>0</td>\n",
       "      <td>18412</td>\n",
       "    </tr>\n",
       "    <tr>\n",
       "      <th>2</th>\n",
       "      <td>2021-01-16</td>\n",
       "      <td>Arunachal Pradesh</td>\n",
       "      <td>829</td>\n",
       "      <td>0</td>\n",
       "      <td>829</td>\n",
       "    </tr>\n",
       "    <tr>\n",
       "      <th>3</th>\n",
       "      <td>2021-01-16</td>\n",
       "      <td>Assam</td>\n",
       "      <td>3528</td>\n",
       "      <td>0</td>\n",
       "      <td>3528</td>\n",
       "    </tr>\n",
       "    <tr>\n",
       "      <th>4</th>\n",
       "      <td>2021-01-16</td>\n",
       "      <td>Bihar</td>\n",
       "      <td>18169</td>\n",
       "      <td>0</td>\n",
       "      <td>18169</td>\n",
       "    </tr>\n",
       "  </tbody>\n",
       "</table>\n",
       "</div>"
      ],
      "text/plain": [
       "        Date                        State  First Dose Administered  \\\n",
       "0 2021-01-16  Andaman and Nicobar Islands                      225   \n",
       "1 2021-01-16               Andhra Pradesh                    18412   \n",
       "2 2021-01-16            Arunachal Pradesh                      829   \n",
       "3 2021-01-16                        Assam                     3528   \n",
       "4 2021-01-16                        Bihar                    18169   \n",
       "\n",
       "   Second Dose Administered  Total Doses Administered  \n",
       "0                         0                       225  \n",
       "1                         0                     18412  \n",
       "2                         0                       829  \n",
       "3                         0                      3528  \n",
       "4                         0                     18169  "
      ]
     },
     "metadata": {},
     "execution_count": 16
    }
   ],
   "metadata": {}
  },
  {
   "cell_type": "markdown",
   "source": [
    "### Dropping First Administerd Dose as it will be of no use for immunity"
   ],
   "metadata": {}
  },
  {
   "cell_type": "code",
   "execution_count": 17,
   "source": [
    "vaccine_data.drop(columns=['First Dose Administered', 'Total Doses Administered'], inplace=True)\r\n",
    "vaccine_data.head()\r\n"
   ],
   "outputs": [
    {
     "output_type": "execute_result",
     "data": {
      "text/html": [
       "<div>\n",
       "<style scoped>\n",
       "    .dataframe tbody tr th:only-of-type {\n",
       "        vertical-align: middle;\n",
       "    }\n",
       "\n",
       "    .dataframe tbody tr th {\n",
       "        vertical-align: top;\n",
       "    }\n",
       "\n",
       "    .dataframe thead th {\n",
       "        text-align: right;\n",
       "    }\n",
       "</style>\n",
       "<table border=\"1\" class=\"dataframe\">\n",
       "  <thead>\n",
       "    <tr style=\"text-align: right;\">\n",
       "      <th></th>\n",
       "      <th>Date</th>\n",
       "      <th>State</th>\n",
       "      <th>Second Dose Administered</th>\n",
       "    </tr>\n",
       "  </thead>\n",
       "  <tbody>\n",
       "    <tr>\n",
       "      <th>0</th>\n",
       "      <td>2021-01-16</td>\n",
       "      <td>Andaman and Nicobar Islands</td>\n",
       "      <td>0</td>\n",
       "    </tr>\n",
       "    <tr>\n",
       "      <th>1</th>\n",
       "      <td>2021-01-16</td>\n",
       "      <td>Andhra Pradesh</td>\n",
       "      <td>0</td>\n",
       "    </tr>\n",
       "    <tr>\n",
       "      <th>2</th>\n",
       "      <td>2021-01-16</td>\n",
       "      <td>Arunachal Pradesh</td>\n",
       "      <td>0</td>\n",
       "    </tr>\n",
       "    <tr>\n",
       "      <th>3</th>\n",
       "      <td>2021-01-16</td>\n",
       "      <td>Assam</td>\n",
       "      <td>0</td>\n",
       "    </tr>\n",
       "    <tr>\n",
       "      <th>4</th>\n",
       "      <td>2021-01-16</td>\n",
       "      <td>Bihar</td>\n",
       "      <td>0</td>\n",
       "    </tr>\n",
       "  </tbody>\n",
       "</table>\n",
       "</div>"
      ],
      "text/plain": [
       "        Date                        State  Second Dose Administered\n",
       "0 2021-01-16  Andaman and Nicobar Islands                         0\n",
       "1 2021-01-16               Andhra Pradesh                         0\n",
       "2 2021-01-16            Arunachal Pradesh                         0\n",
       "3 2021-01-16                        Assam                         0\n",
       "4 2021-01-16                        Bihar                         0"
      ]
     },
     "metadata": {},
     "execution_count": 17
    }
   ],
   "metadata": {}
  },
  {
   "cell_type": "code",
   "execution_count": null,
   "source": [],
   "outputs": [],
   "metadata": {}
  }
 ],
 "metadata": {
  "orig_nbformat": 4,
  "language_info": {
   "name": "python",
   "version": "3.7.10",
   "mimetype": "text/x-python",
   "codemirror_mode": {
    "name": "ipython",
    "version": 3
   },
   "pygments_lexer": "ipython3",
   "nbconvert_exporter": "python",
   "file_extension": ".py"
  },
  "kernelspec": {
   "name": "python3",
   "display_name": "Python 3.7.10 64-bit ('py37': conda)"
  },
  "interpreter": {
   "hash": "a263528bddcf89889755c8afa0b078bc5b70b35677ace3069bd0b4dfdedf2c2f"
  }
 },
 "nbformat": 4,
 "nbformat_minor": 2
}